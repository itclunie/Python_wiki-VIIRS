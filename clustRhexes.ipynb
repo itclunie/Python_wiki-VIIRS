{
 "cells": [
  {
   "cell_type": "code",
   "execution_count": null,
   "metadata": {
    "collapsed": true
   },
   "outputs": [],
   "source": [
    "#need 2 go through each month_year, \n",
    "#change those points to shapefile\n",
    "#run rest of script on them\n",
    "#preserve those hexes that consistantly have 5+ fires month-over-month \n",
    "#write hex id with #of fires, & month_year\n",
    "\n",
    "import shapefile, shapely, rtree, csv, os, sys\n",
    "from collections import Counter\n",
    "from shapely.geometry import Point\n",
    "from shapely.geometry import Polygon\n",
    "#script to count up how many points fall within each hexigon. outputs csv you can attribute join back to hexigon feature class\n",
    "\n",
    "csvHexCount = r\"/Users/itclunie/Desktop/ECON/find industry/csvHexCount.csv\" #outcsv\n",
    "pointfeat = r\"/Users/itclunie/Desktop/ECON/find industry/VIIRScluster_points/VIIRSclustRd.shp\"     #points\n",
    "polyfeat = r\"/Users/itclunie/Desktop/ECON/find industry/hexes/grid4.shp\"        #hex polygons"
   ]
  },
  {
   "cell_type": "code",
   "execution_count": null,
   "metadata": {},
   "outputs": [],
   "source": [
    "#A Load the shapefile of polygons and convert it to shapely polygon objects\n",
    "polygons_sf = shapefile.Reader(polyfeat)\n",
    "polygon_shapes = polygons_sf.shapes()\n",
    "polygon_points = [q.points for q in polygon_shapes ]\n",
    "polygons = [Polygon(q) for q in polygon_points]\n",
    "poly_records = polygons_sf.records()"
   ]
  },
  {
   "cell_type": "code",
   "execution_count": null,
   "metadata": {
    "collapsed": true
   },
   "outputs": [],
   "source": [
    "#B Load the shapefile of points and convert it to shapely point objects\n",
    "points_sf = shapefile.Reader(pointfeat)\n",
    "point_shapes = points_sf.shapes()\n",
    "point_coords= [q.points[0] for q in point_shapes ]\n",
    "points = [Point(q.points[0]) for q in point_shapes ]"
   ]
  },
  {
   "cell_type": "code",
   "execution_count": null,
   "metadata": {
    "collapsed": true
   },
   "outputs": [],
   "source": [
    "#C Build a spatial index based on the bounding boxes of the polygons\n",
    "from rtree import index\n",
    "idx = index.Index()\n",
    "count = -1\n",
    "for q in polygon_shapes:\n",
    "    count +=1\n",
    "    idx.insert(count, q.bbox)"
   ]
  },
  {
   "cell_type": "code",
   "execution_count": null,
   "metadata": {},
   "outputs": [],
   "source": [
    "#D Assign one or more matching polygons to each point\n",
    "tallyHO = []\n",
    "count = 0\n",
    "countThou = 0\n",
    "for i in range(len(points)): #Iterate through each point\n",
    "    count += 1\n",
    "    countThou += 1\n",
    "    if countThou == 10000:\n",
    "        countThou = 0\n",
    "        print('processed ' + str(count) + ' points')\n",
    "\n",
    "    #Iterate only through the bounding boxes which contain the point \n",
    "    for j in idx.intersection(point_coords[i]):\n",
    "        #Verify that point is within the polygon itself not just the bounding box\n",
    "        if points[i].within(polygons[j]):       \n",
    "            tallyHO.append(poly_records[j][0]) \n",
    "            break "
   ]
  },
  {
   "cell_type": "code",
   "execution_count": null,
   "metadata": {
    "collapsed": true
   },
   "outputs": [],
   "source": [
    "#E this tallies up the repeats and give us the point count for each polygon\n",
    "resultDict = dict([ (i,tallyHO.count(i)) for i in set(tallyHO) ])"
   ]
  },
  {
   "cell_type": "code",
   "execution_count": null,
   "metadata": {
    "collapsed": true
   },
   "outputs": [],
   "source": [
    "#F output the final tally\n",
    "headers = ['Hex_ID','Count']\n",
    "with open(csvHexCount, 'w') as output:\n",
    "    writer = csv.writer(output, lineterminator = '\\n')\n",
    "    writer.writerows([headers])\n",
    "\n",
    "    for key in resultDict:\n",
    "        templist = []\n",
    "        templist.append(key)\n",
    "        templist.append(resultDict[key])\n",
    "        writer.writerows([templist])"
   ]
  },
  {
   "cell_type": "code",
   "execution_count": null,
   "metadata": {
    "collapsed": true
   },
   "outputs": [],
   "source": []
  }
 ],
 "metadata": {
  "kernelspec": {
   "display_name": "Python 3",
   "language": "python",
   "name": "python3"
  },
  "language_info": {
   "codemirror_mode": {
    "name": "ipython",
    "version": 3
   },
   "file_extension": ".py",
   "mimetype": "text/x-python",
   "name": "python",
   "nbconvert_exporter": "python",
   "pygments_lexer": "ipython3",
   "version": "3.6.4"
  }
 },
 "nbformat": 4,
 "nbformat_minor": 2
}
